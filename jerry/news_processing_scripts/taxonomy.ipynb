{
 "cells": [
  {
   "cell_type": "code",
   "execution_count": 2,
   "metadata": {},
   "outputs": [],
   "source": [
    "dic = {\n",
    "    'Standard Lithium Ltd': ['standard lithium'],\n",
    "    'Albemarle Corporation': ['albemarle'],\n",
    "    'Sociedad Quimica y Minera de Chile SA': ['sociedad quimica y minera de chile sa', 'SQM'],\n",
    "    'Ganfeng Lithium Co Ltd': ['ganfeng lithium'],\n",
    "    'Tianqi Lithium Corporation': ['tianqi lithium'],\n",
    "    'Livent Corporation': ['livent'],\n",
    "    'Piedmont Lithium Ltd': ['piedmont lithium'],\n",
    "    'Lithium Americas Corporation': ['lithium americas'],\n",
    "    'Galaxy Resources Limited': ['galaxy resources'],\n",
    "    'EnerSys': ['enersys'],\n",
    "    'Vulcan Energy Resources Limited': ['vulcan energy resources'],\n",
    "    'European Metals Holdings Limited': ['european metals holdings'],\n",
    "    'Critical Elements Lithium Corporation': ['critical elements', 'critical elements lithium'],\n",
    "    'Pilbara Minerals': ['pilbara minerals'],\n",
    "    'Sichuan Yahua Group': ['sichuan yahua group'],\n",
    "    'Allkem Limited': ['allkem', 'orocobre'], # known as Orocobre Limited until 30 November 2021\n",
    "    'Mineral Resources Limited': ['mineral resources'],\n",
    "    'Jiangxi Special Electric Motor': ['jiangxi special electric motor'], # has lithium mine operating rights\n",
    "    'Yongxing Special Materials Technology': ['yongxing special materials technology'], # engaged in lithium mining\n",
    "    'Sinomine Resource Group': ['sinomine resource'], # vertically integrated \"\"mining, dressing, and smelting\" business\n",
    "    'Altura Mining Limited': ['altura mining'],\n",
    "    'Eramet SA': ['eramet sa', 'eramet'],\n",
    "    'Infinity Lithium Corporation Limited': ['infinity lithium'],\n",
    "    'International Lithium Corp.': ['international lithium'],\n",
    "    'Lithium Chile Inc.': ['lithium chile'],\n",
    "    'Lithium South Development Corporation': ['lithium south development'],\n",
    "    # 'Lithium Werks',\n",
    "    'Lithium Corporation': ['lithium corporation'],\n",
    "    'Lithium X Energy Corp.': ['lithium x'],\n",
    "    # 'Lithium Energy Japan',\n",
    "    'Lithium Energy Limited': ['lithium energy'],\n",
    "    # 'Lithium Urban Technologies',\n",
    "    # 'Lithium Valley Technology',\n",
    "    'LSC Lithium Corporation': ['lsc lithium'],\n",
    "    'MGX Minerals Inc.': ['mgx minerals'],\n",
    "    'QMC Quantum Minerals Corp.': ['qmc quantum minerals'],\n",
    "    'Sigma Lithium Resources Corporation': ['sigma lithium resources'],\n",
    "    # 'Lithium Australia NL',\n",
    "    'Lithium Ionic Corp.': ['lithium ionic'],\n",
    "    'Arena Minerals Inc.': ['arena minerals'],\n",
    "    'Rock Tech Lithium Inc.': ['rock tech lithium'],\n",
    "    'American Lithium': ['american lithium'],\n",
    "    'Wealth Minerals Ltd.': ['wealth minerals'],\n",
    "    'Zadar Ventures Ltd.': ['zadar ventures'],\n",
    "    'Lithium Power International': ['lithium power international'],\n",
    "    'Bacanora Lithium Ltd': ['bacanora lithium'],\n",
    "    'RB Energy': ['rb energy'],\n",
    "    'Rio Tinto': ['rio tinto'],\n",
    "}"
   ]
  },
  {
   "cell_type": "code",
   "execution_count": 8,
   "metadata": {},
   "outputs": [],
   "source": [
    "import json\n",
    "with open('taxonomy.json', 'w') as fp:\n",
    "    json.dump(dic, fp)"
   ]
  },
  {
   "cell_type": "code",
   "execution_count": 14,
   "metadata": {},
   "outputs": [
    {
     "name": "stdout",
     "output_type": "stream",
     "text": [
      "<class 'list'>\n"
     ]
    }
   ],
   "source": [
    "# Opening JSON file\n",
    "f = open('taxonomy.json')\n",
    "data = json.load(f)\n",
    "print(type(data['mining']['Rio Tinto']))"
   ]
  }
 ],
 "metadata": {
  "kernelspec": {
   "display_name": "Python 3",
   "language": "python",
   "name": "python3"
  },
  "language_info": {
   "codemirror_mode": {
    "name": "ipython",
    "version": 3
   },
   "file_extension": ".py",
   "mimetype": "text/x-python",
   "name": "python",
   "nbconvert_exporter": "python",
   "pygments_lexer": "ipython3",
   "version": "3.11.4"
  },
  "orig_nbformat": 4
 },
 "nbformat": 4,
 "nbformat_minor": 2
}
