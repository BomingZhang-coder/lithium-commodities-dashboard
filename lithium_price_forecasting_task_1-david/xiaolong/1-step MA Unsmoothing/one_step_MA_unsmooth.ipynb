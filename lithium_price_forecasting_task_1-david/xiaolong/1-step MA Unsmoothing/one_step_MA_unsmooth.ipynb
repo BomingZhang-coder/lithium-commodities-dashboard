{
  "nbformat": 4,
  "nbformat_minor": 0,
  "metadata": {
    "colab": {
      "provenance": []
    },
    "kernelspec": {
      "name": "python3",
      "display_name": "Python 3"
    },
    "language_info": {
      "name": "python"
    }
  },
  "cells": [
    {
      "cell_type": "code",
      "execution_count": 1,
      "metadata": {
        "id": "wDQI9TZgkMrI"
      },
      "outputs": [],
      "source": [
        "import pandas as pd\n",
        "import numpy as np\n",
        "import statsmodels.api as sm\n",
        "from google.colab import files"
      ]
    },
    {
      "cell_type": "markdown",
      "source": [
        "# Data Preprocessing"
      ],
      "metadata": {
        "id": "VBFvdYCFw9QA"
      }
    },
    {
      "cell_type": "code",
      "source": [
        "file_path = '/content/Lithium Carbonate 99%Min China Spot Historical Data (2).csv'\n",
        "LTCB_99 = pd.read_csv(file_path)"
      ],
      "metadata": {
        "id": "Ckk3a4VWguCj"
      },
      "execution_count": 2,
      "outputs": []
    },
    {
      "cell_type": "code",
      "source": [
        "LTCB_99['Date'] = pd.to_datetime(LTCB_99['Date'])\n",
        "LTCB_99 = LTCB_99.sort_values('Date')\n",
        "LTCB_99.set_index('Date', inplace=True)\n",
        "LTCB_99.rename(columns = {'Change %': 'Obs_Return'}, inplace = True)\n",
        "LTCB_99['Obs_Return'] = (LTCB_99['Obs_Return'].str.replace('%', '').astype(float))/100"
      ],
      "metadata": {
        "id": "5FCMYKym0DoQ"
      },
      "execution_count": 3,
      "outputs": []
    },
    {
      "cell_type": "code",
      "source": [
        "return_na_count = LTCB_99['Obs_Return'].isna().sum()\n",
        "if return_na_count > 0:\n",
        "  LTCB_99 = LTCB_99.dropna(subset=['Obs_Return'])\n",
        "  print(\"Number of missing values:\", return_na_count)"
      ],
      "metadata": {
        "id": "OBWG_Np_3tmR"
      },
      "execution_count": 4,
      "outputs": []
    },
    {
      "cell_type": "code",
      "source": [
        "print(LTCB_99.tail())"
      ],
      "metadata": {
        "colab": {
          "base_uri": "https://localhost:8080/"
        },
        "id": "pkm-cAEdtzGj",
        "outputId": "24fc4743-c3d9-46da-d4bb-548681b7f4f7"
      },
      "execution_count": 6,
      "outputs": [
        {
          "output_type": "stream",
          "name": "stdout",
          "text": [
            "                 Price        Open        High         Low  Vol.  Obs_Return\n",
            "Date                                                                        \n",
            "2024-04-03  106,500.00  106,500.00  108,000.00  105,000.00   NaN      0.0095\n",
            "2024-04-08  109,500.00  109,500.00  111,000.00  108,000.00   NaN      0.0282\n",
            "2024-04-09  109,500.00  109,500.00  111,000.00  108,000.00   NaN      0.0000\n",
            "2024-04-10  110,500.00  110,500.00  112,000.00  109,000.00   NaN      0.0091\n",
            "2024-04-11  109,500.00  109,500.00  111,000.00  108,000.00   NaN     -0.0090\n"
          ]
        }
      ]
    },
    {
      "cell_type": "code",
      "source": [
        "def unsmooth_returns_1_step(observed_returns, max_lags):\n",
        "    \"\"\"\n",
        "    Unsmooth observed returns using a 1-step MA Unsmoothing Method.\n",
        "\n",
        "    Parameters:\n",
        "    - observed_returns: observed (smoothed) returns.\n",
        "    - max_lags: Maximum number of lags (H) to consider for the MA model.\n",
        "\n",
        "    Returns:\n",
        "    - true_returns: estimated true (unsmoothed) returns.\n",
        "    \"\"\"\n",
        "\n",
        "    # Fit an MA model to the observed returns\n",
        "    # Using AIC to choose the best number of lags\n",
        "    best_aic = np.inf\n",
        "    best_order = None\n",
        "    best_model = None\n",
        "\n",
        "    for lag in range(max_lags + 1):\n",
        "        try:\n",
        "            model = sm.tsa.ARIMA(observed_returns, order=(0, 0, lag)).fit()\n",
        "            if model.aic < best_aic:\n",
        "                best_aic = model.aic\n",
        "                best_order = lag\n",
        "                best_model = model\n",
        "        except:\n",
        "            continue\n",
        "    # Extract the residuals from the best MA model\n",
        "    if best_model is not None:\n",
        "        true_returns = best_model.resid + best_model.params.get('const', 0)\n",
        "    else:\n",
        "        # If no model is successfully fitted, fallback to observed returns\n",
        "        true_returns = observed_returns.copy()\n",
        "\n",
        "    return true_returns"
      ],
      "metadata": {
        "id": "92BdmrMl0LvW"
      },
      "execution_count": 7,
      "outputs": []
    },
    {
      "cell_type": "code",
      "source": [
        "# Best model among MA(1)~MA(5) models\n",
        "one_step_true_MA = unsmooth_returns_1_step(observed_returns=LTCB_99['Obs_Return'], max_lags=5)"
      ],
      "metadata": {
        "colab": {
          "base_uri": "https://localhost:8080/"
        },
        "id": "chprbwbj0cho",
        "outputId": "647b3b12-7c70-4817-fcce-ab85d0740350"
      },
      "execution_count": 8,
      "outputs": [
        {
          "output_type": "stream",
          "name": "stderr",
          "text": [
            "/usr/local/lib/python3.10/dist-packages/statsmodels/tsa/base/tsa_model.py:473: ValueWarning: A date index has been provided, but it has no associated frequency information and so will be ignored when e.g. forecasting.\n",
            "  self._init_dates(dates, freq)\n",
            "/usr/local/lib/python3.10/dist-packages/statsmodels/tsa/base/tsa_model.py:473: ValueWarning: A date index has been provided, but it has no associated frequency information and so will be ignored when e.g. forecasting.\n",
            "  self._init_dates(dates, freq)\n",
            "/usr/local/lib/python3.10/dist-packages/statsmodels/tsa/base/tsa_model.py:473: ValueWarning: A date index has been provided, but it has no associated frequency information and so will be ignored when e.g. forecasting.\n",
            "  self._init_dates(dates, freq)\n",
            "/usr/local/lib/python3.10/dist-packages/statsmodels/tsa/base/tsa_model.py:473: ValueWarning: A date index has been provided, but it has no associated frequency information and so will be ignored when e.g. forecasting.\n",
            "  self._init_dates(dates, freq)\n",
            "/usr/local/lib/python3.10/dist-packages/statsmodels/tsa/base/tsa_model.py:473: ValueWarning: A date index has been provided, but it has no associated frequency information and so will be ignored when e.g. forecasting.\n",
            "  self._init_dates(dates, freq)\n",
            "/usr/local/lib/python3.10/dist-packages/statsmodels/tsa/base/tsa_model.py:473: ValueWarning: A date index has been provided, but it has no associated frequency information and so will be ignored when e.g. forecasting.\n",
            "  self._init_dates(dates, freq)\n",
            "/usr/local/lib/python3.10/dist-packages/statsmodels/tsa/base/tsa_model.py:473: ValueWarning: A date index has been provided, but it has no associated frequency information and so will be ignored when e.g. forecasting.\n",
            "  self._init_dates(dates, freq)\n",
            "/usr/local/lib/python3.10/dist-packages/statsmodels/tsa/base/tsa_model.py:473: ValueWarning: A date index has been provided, but it has no associated frequency information and so will be ignored when e.g. forecasting.\n",
            "  self._init_dates(dates, freq)\n",
            "/usr/local/lib/python3.10/dist-packages/statsmodels/tsa/base/tsa_model.py:473: ValueWarning: A date index has been provided, but it has no associated frequency information and so will be ignored when e.g. forecasting.\n",
            "  self._init_dates(dates, freq)\n",
            "/usr/local/lib/python3.10/dist-packages/statsmodels/tsa/base/tsa_model.py:473: ValueWarning: A date index has been provided, but it has no associated frequency information and so will be ignored when e.g. forecasting.\n",
            "  self._init_dates(dates, freq)\n",
            "/usr/local/lib/python3.10/dist-packages/statsmodels/tsa/base/tsa_model.py:473: ValueWarning: A date index has been provided, but it has no associated frequency information and so will be ignored when e.g. forecasting.\n",
            "  self._init_dates(dates, freq)\n",
            "/usr/local/lib/python3.10/dist-packages/statsmodels/tsa/base/tsa_model.py:473: ValueWarning: A date index has been provided, but it has no associated frequency information and so will be ignored when e.g. forecasting.\n",
            "  self._init_dates(dates, freq)\n",
            "/usr/local/lib/python3.10/dist-packages/statsmodels/tsa/base/tsa_model.py:473: ValueWarning: A date index has been provided, but it has no associated frequency information and so will be ignored when e.g. forecasting.\n",
            "  self._init_dates(dates, freq)\n",
            "/usr/local/lib/python3.10/dist-packages/statsmodels/tsa/base/tsa_model.py:473: ValueWarning: A date index has been provided, but it has no associated frequency information and so will be ignored when e.g. forecasting.\n",
            "  self._init_dates(dates, freq)\n",
            "/usr/local/lib/python3.10/dist-packages/statsmodels/tsa/base/tsa_model.py:473: ValueWarning: A date index has been provided, but it has no associated frequency information and so will be ignored when e.g. forecasting.\n",
            "  self._init_dates(dates, freq)\n",
            "/usr/local/lib/python3.10/dist-packages/statsmodels/tsa/base/tsa_model.py:473: ValueWarning: A date index has been provided, but it has no associated frequency information and so will be ignored when e.g. forecasting.\n",
            "  self._init_dates(dates, freq)\n",
            "/usr/local/lib/python3.10/dist-packages/statsmodels/tsa/base/tsa_model.py:473: ValueWarning: A date index has been provided, but it has no associated frequency information and so will be ignored when e.g. forecasting.\n",
            "  self._init_dates(dates, freq)\n",
            "/usr/local/lib/python3.10/dist-packages/statsmodels/tsa/base/tsa_model.py:473: ValueWarning: A date index has been provided, but it has no associated frequency information and so will be ignored when e.g. forecasting.\n",
            "  self._init_dates(dates, freq)\n"
          ]
        }
      ]
    },
    {
      "cell_type": "code",
      "source": [
        "one_step_true_MA.to_csv(r'LTCB99_1Step_trueMA.csv', index=True, header=True)\n",
        "files.download('LTCB99_1Step_trueMA.csv')"
      ],
      "metadata": {
        "colab": {
          "base_uri": "https://localhost:8080/",
          "height": 17
        },
        "id": "0T1DJPjZ1Dbw",
        "outputId": "d24deac2-bd12-4997-85af-ffd71a2eb6ed"
      },
      "execution_count": 9,
      "outputs": [
        {
          "output_type": "display_data",
          "data": {
            "text/plain": [
              "<IPython.core.display.Javascript object>"
            ],
            "application/javascript": [
              "\n",
              "    async function download(id, filename, size) {\n",
              "      if (!google.colab.kernel.accessAllowed) {\n",
              "        return;\n",
              "      }\n",
              "      const div = document.createElement('div');\n",
              "      const label = document.createElement('label');\n",
              "      label.textContent = `Downloading \"${filename}\": `;\n",
              "      div.appendChild(label);\n",
              "      const progress = document.createElement('progress');\n",
              "      progress.max = size;\n",
              "      div.appendChild(progress);\n",
              "      document.body.appendChild(div);\n",
              "\n",
              "      const buffers = [];\n",
              "      let downloaded = 0;\n",
              "\n",
              "      const channel = await google.colab.kernel.comms.open(id);\n",
              "      // Send a message to notify the kernel that we're ready.\n",
              "      channel.send({})\n",
              "\n",
              "      for await (const message of channel.messages) {\n",
              "        // Send a message to notify the kernel that we're ready.\n",
              "        channel.send({})\n",
              "        if (message.buffers) {\n",
              "          for (const buffer of message.buffers) {\n",
              "            buffers.push(buffer);\n",
              "            downloaded += buffer.byteLength;\n",
              "            progress.value = downloaded;\n",
              "          }\n",
              "        }\n",
              "      }\n",
              "      const blob = new Blob(buffers, {type: 'application/binary'});\n",
              "      const a = document.createElement('a');\n",
              "      a.href = window.URL.createObjectURL(blob);\n",
              "      a.download = filename;\n",
              "      div.appendChild(a);\n",
              "      a.click();\n",
              "      div.remove();\n",
              "    }\n",
              "  "
            ]
          },
          "metadata": {}
        },
        {
          "output_type": "display_data",
          "data": {
            "text/plain": [
              "<IPython.core.display.Javascript object>"
            ],
            "application/javascript": [
              "download(\"download_63899a41-87c5-41ed-a8c9-2cbae542672d\", \"LTCB99_1Step_trueMA.csv\", 54978)"
            ]
          },
          "metadata": {}
        }
      ]
    }
  ]
}