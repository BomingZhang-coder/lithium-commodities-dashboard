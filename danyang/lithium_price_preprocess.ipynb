{
 "cells": [
  {
   "cell_type": "markdown",
   "metadata": {},
   "source": [
    "# Preprocess Lithium Carbonate 99%Min China Spot Historical Data\n",
    "Filename: Lithium Carbonate 99%Min China Spot Historical Data.csv </br>\n",
    "Source: investing.com </br>\n",
    "Location: Shanghai </br>\n",
    "Currency: CNY"
   ]
  },
  {
   "cell_type": "markdown",
   "metadata": {},
   "source": []
  }
 ],
 "metadata": {
  "language_info": {
   "name": "python"
  },
  "orig_nbformat": 4
 },
 "nbformat": 4,
 "nbformat_minor": 2
}
