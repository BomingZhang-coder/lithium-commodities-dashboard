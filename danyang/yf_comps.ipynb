{
 "cells": [
  {
   "cell_type": "markdown",
   "metadata": {},
   "source": [
    "## Get Stock Info (Name, Stock, Exchange, Time Zone, Market Cap)"
   ]
  },
  {
   "cell_type": "code",
   "execution_count": 1,
   "metadata": {},
   "outputs": [],
   "source": [
    "import pandas as pd\n",
    "import yfinance as yf"
   ]
  },
  {
   "cell_type": "code",
   "execution_count": 2,
   "metadata": {},
   "outputs": [],
   "source": [
    "up_list = pd.read_csv('./Data/Company_list - Upstream.csv', usecols=[0,1])\n",
    "up_list.dropna(inplace=True) # Delete companies with no listings\n",
    "\n",
    "# Get exchange, currency, time zone, market cap in each currency\n",
    "up_list['Exchange'] = up_list.apply(lambda x: (yf.Ticker(x['Stock']).info['exchange']), axis = 1) \n",
    "up_list['Currency'] = up_list.apply(lambda x: (yf.Ticker(x['Stock']).info['currency']), axis = 1)\n",
    "up_list['Time Zone'] = up_list.apply(lambda x: (yf.Ticker(x['Stock']).info['timeZoneShortName']), axis = 1)\n",
    "up_list['Market Cap'] = up_list.apply(lambda x: (yf.Ticker(x['Stock']).info['marketCap'])/1000000, axis = 1)\n",
    "up_list.to_csv('./Data/Upstream_companies.csv')\n",
    "# up_list.drop(columns='Other listing', inplace=True)"
   ]
  }
 ],
 "metadata": {
  "kernelspec": {
   "display_name": "Python 3",
   "language": "python",
   "name": "python3"
  },
  "language_info": {
   "codemirror_mode": {
    "name": "ipython",
    "version": 3
   },
   "file_extension": ".py",
   "mimetype": "text/x-python",
   "name": "python",
   "nbconvert_exporter": "python",
   "pygments_lexer": "ipython3",
   "version": "3.11.4"
  },
  "orig_nbformat": 4
 },
 "nbformat": 4,
 "nbformat_minor": 2
}
